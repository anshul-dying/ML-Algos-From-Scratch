{
 "cells": [
  {
   "cell_type": "code",
   "execution_count": 5,
   "id": "4caa5332",
   "metadata": {},
   "outputs": [],
   "source": [
    "import numpy as np\n",
    "import matplotlib.pyplot as plt\n",
    "from sklearn.datasets import load_iris\n",
    "from sklearn.metrics import f1_score, accuracy_score\n",
    "from sklearn.model_selection import train_test_split\n",
    "from sklearn.discriminant_analysis import LinearDiscriminantAnalysis\n",
    "from gda import GDA"
   ]
  },
  {
   "cell_type": "markdown",
   "id": "19bddb95",
   "metadata": {},
   "source": [
    "## GDA from our model"
   ]
  },
  {
   "cell_type": "code",
   "execution_count": 6,
   "id": "e71ffbf7",
   "metadata": {},
   "outputs": [
    {
     "name": "stdout",
     "output_type": "stream",
     "text": [
      "f1 score of our model:  1.0\n",
      "Accuracy of our model:  1.0\n"
     ]
    }
   ],
   "source": [
    "gda = GDA()\n",
    "data = load_iris()\n",
    "X_train, X_test, y_train, y_test = train_test_split(data.data, data.target, random_state=42)\n",
    "gda.fit(X_train, y_train)\n",
    "y_pred_our = gda.predict(X_test)\n",
    "\n",
    "score_our = f1_score(y_test, y_pred_our, average='weighted')\n",
    "acc_our = accuracy_score(y_test, y_pred_our)\n",
    "print(\"f1 score of our model: \", score_our)\n",
    "print(\"Accuracy of our model: \", acc_our)"
   ]
  },
  {
   "cell_type": "markdown",
   "id": "be352e4e",
   "metadata": {},
   "source": [
    "## GDA from Sklearn"
   ]
  },
  {
   "cell_type": "code",
   "execution_count": 8,
   "id": "127dcd99",
   "metadata": {},
   "outputs": [
    {
     "name": "stdout",
     "output_type": "stream",
     "text": [
      "f1 score of sklearn model:  1.0\n",
      "Accuracy of sklaern model:  1.0\n"
     ]
    }
   ],
   "source": [
    "from sklearn.discriminant_analysis import LinearDiscriminantAnalysis\n",
    "\n",
    "lda = LinearDiscriminantAnalysis()\n",
    "lda.fit(X_train, y_train)\n",
    "y_pred_sklearn = lda.predict(X_test)\n",
    "\n",
    "score_sklaern = f1_score(y_test, y_pred_sklearn, average='weighted')\n",
    "acc_sklaern = accuracy_score(y_test, y_pred_sklearn)\n",
    "print(\"f1 score of sklearn model: \", score_sklaern)\n",
    "print(\"Accuracy of sklaern model: \", acc_sklaern)"
   ]
  },
  {
   "cell_type": "code",
   "execution_count": null,
   "id": "1a8b62eb",
   "metadata": {},
   "outputs": [],
   "source": []
  }
 ],
 "metadata": {
  "kernelspec": {
   "display_name": "Python 3",
   "language": "python",
   "name": "python3"
  },
  "language_info": {
   "codemirror_mode": {
    "name": "ipython",
    "version": 3
   },
   "file_extension": ".py",
   "mimetype": "text/x-python",
   "name": "python",
   "nbconvert_exporter": "python",
   "pygments_lexer": "ipython3",
   "version": "3.10.0"
  }
 },
 "nbformat": 4,
 "nbformat_minor": 5
}
